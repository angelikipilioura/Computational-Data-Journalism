{
  "nbformat": 4,
  "nbformat_minor": 0,
  "metadata": {
    "colab": {
      "provenance": [],
      "include_colab_link": true
    },
    "kernelspec": {
      "name": "python3",
      "display_name": "Python 3"
    },
    "language_info": {
      "name": "python"
    }
  },
  "cells": [
    {
      "cell_type": "markdown",
      "metadata": {
        "id": "view-in-github",
        "colab_type": "text"
      },
      "source": [
        "<a href=\"https://colab.research.google.com/github/angelikipilioura/Computational-Data-Journalism/blob/main/Classwork_exercises_Intro_to_Python_1_Variables%2C_data_types%2C_operators%2C_functions_%26_methods_Angeliki_Pilioura.ipynb\" target=\"_parent\"><img src=\"https://colab.research.google.com/assets/colab-badge.svg\" alt=\"Open In Colab\"/></a>"
      ]
    },
    {
      "cell_type": "markdown",
      "source": [
        "#Ασκήσεις του μαθήματος \"Εισαγωγή στην Python 1 - Variables, data types (integers, floats, stings, boolean, lists, dictionaries), mathematical & comparison operators, functions & methods"
      ],
      "metadata": {
        "id": "eZ6s1jOQBAty"
      }
    },
    {
      "cell_type": "markdown",
      "source": [
        "\n",
        "\n",
        "---\n",
        "\n",
        "\n",
        "####**Άσκηση 2** (Προαιρετικά)\n",
        "\n",
        "**Try yourself**: Φτιάξτε ένα νέο κελί κώδικα (Code cell) ακριβώς κάτω από αυτό και δημιουργήστε μεταβλητές με τα στοιχεία σας:\n",
        "\n",
        "*   το μικρό σας όνομα\n",
        "*   το επίθετό σας\n",
        "*   το email σας\n",
        "*   το εξάμηνό σας\n",
        "*   τυπώστε όλα μαζί τα παραπάνω στην οθόνη"
      ],
      "metadata": {
        "id": "wiiXoX3tfVML"
      }
    },
    {
      "cell_type": "code",
      "source": [
        "first_name = \"Angeliki\"\n",
        "surname = \"Pilioura\"\n",
        "email = \"aggelikipilioura@gmail.com\"\n",
        "semester = 8\n",
        "\n",
        "# Print the personal information together on the screen\n",
        "print(\"First Name:\", first_name)\n",
        "print(\"Surname:\", surname)\n",
        "print(\"Email:\", email)\n",
        "print(\"Semester:\", semester)"
      ],
      "metadata": {
        "colab": {
          "base_uri": "https://localhost:8080/"
        },
        "id": "uCDPldX7UiB4",
        "outputId": "3e8411fd-52a2-42f7-dc60-a9880ddfd131"
      },
      "execution_count": null,
      "outputs": [
        {
          "output_type": "stream",
          "name": "stdout",
          "text": [
            "First Name: Angeliki\n",
            "Surname: Pilioura\n",
            "Email: aggelikipilioura@gmail.com\n",
            "Semester: 8\n"
          ]
        }
      ]
    },
    {
      "cell_type": "markdown",
      "source": [
        "\n",
        "\n",
        "---\n",
        "\n",
        "####**Άσκηση 3**\n",
        "\n",
        "**Try yourself**: Φτιάξτε ένα νέο κελί κώδικα (Code cell) ακριβώς κάτω από αυτό και κάνετε τα παρακάτω:\n",
        "\n",
        "* δημιουργήστε 3 μεταβλητές, όπου η καθεμιά θα έχει τη θερμοκρασία του αέρα όπως την καταγράψαμε το πρωί, το μεσημέρι και το βράδυ\n",
        "* βρείτε το μέσο όρο των θερμοκρασιών\n",
        "* βρείτε τη μέγιστη διαφορά των θερμοκρασιών\n",
        "* δημιουργήστε μια νέα μεταβλητή που θα περιέχει την τιμή της μέσης θερμοκρασίας σε ακέραιο\n",
        "* ελέγξτε τα αποτελέσματα τυπώνοντάς τα στην οθόνη\n"
      ],
      "metadata": {
        "id": "yrhDlp7r8Jsi"
      }
    },
    {
      "cell_type": "code",
      "source": [
        "morning_temp = 11\n",
        "noon_temp = 18\n",
        "evening_temp = 14\n",
        "\n",
        "average_temp = (morning_temp + noon_temp + evening_temp) / 3\n",
        "\n",
        "max_difference = max(abs(morning_temp - noon_temp), abs(noon_temp - evening_temp), abs(evening_temp - morning_temp))\n",
        "\n",
        "average_temp_int = int(average_temp)\n",
        "\n",
        "print(\"Average temperature:\", average_temp)\n",
        "print(\"Maximum temperature difference:\", max_difference)\n",
        "print(\"Average temperature (integer):\", average_temp_int)\n"
      ],
      "metadata": {
        "id": "9m2aGo4kTZdL",
        "outputId": "ad1ff488-1283-4425-efd9-6ba79ecb9cb0",
        "colab": {
          "base_uri": "https://localhost:8080/"
        }
      },
      "execution_count": null,
      "outputs": [
        {
          "output_type": "stream",
          "name": "stdout",
          "text": [
            "Average temperature: 14.333333333333334\n",
            "Maximum temperature difference: 7\n",
            "Average temperature (integer): 14\n"
          ]
        }
      ]
    },
    {
      "cell_type": "markdown",
      "source": [
        "\n",
        "\n",
        "---\n",
        "\n",
        "####**Άσκηση 4**\n",
        "\n",
        "**Try yourself**: Φτιάξτε ένα νέο κελί κώδικα (Code cell) ακριβώς κάτω από αυτό και κάνετε τα παρακάτω:\n",
        "\n",
        "* δημιουργήστε μια μεταβλητή με την πόλη που μένετε και μία με το αγαπημένο σας ταξιδιωτικό προορισμό\n",
        "* ελέγξτε την ομοιότητα του τύπου των μεταβλητών\n",
        "* ελέγξτε την ισότητα των μεταβλητών\n",
        "* ελέγξτε αν η μεταβλητή της πόλης είναι μικρότερη της μεταβλητής του ταξιδιωτικού προορισμού\n",
        "\n",
        "Τι νομίζετε ότι σημαίνει ότι ένα string είναι μεγαλύτερο, μικρότερο ή ίσο με ένα άλλο; (Γράψτε την απάντησή σας σε ένα νέο text cell ή σε ένα code cell σαν σχόλιο)\n"
      ],
      "metadata": {
        "id": "pg9-mk1eTq2l"
      }
    },
    {
      "cell_type": "code",
      "source": [
        "city = \"Metamorfosi\"\n",
        "travel_destination = \"Chania\"\n",
        "\n",
        "print(\"Similar types:\", type(city) == type(travel_destination))\n",
        "\n",
        "print(\"Equal:\", city == travel_destination)\n",
        "\n",
        "print(\"City smaller than travel destination:\", city < travel_destination)\n",
        "\n",
        "# Όταν συγκρίνουμε strings στην Python, οι τελεστές \"μεγαλύτερο από\" (>) \n",
        "# και \"μικρότερο από\" (<) συγκρίνουν τα strings λεξικογραφικά, βάσει του \n",
        "# κώδικα Unicode για κάθε χαρακτήρα στο string. Εάν ένα string έρχεται \n",
        "# πριν από το άλλο στη λεξικογραφική σειρά, θεωρείται ότι είναι \"μικρότερο\" \n",
        "# από το άλλο string. Εάν ένα string έρχεται μετά από το άλλο στη λεξικογραφική \n",
        "# σειρά, θεωρείται ότι είναι \"μεγαλύτερο\" από το άλλο string. Εάν τα strings \n",
        "# είναι ίσα, αυτό σημαίνει ότι έχουν τους ίδιους χαρακτήρες με την ίδια σειρά."
      ],
      "metadata": {
        "colab": {
          "base_uri": "https://localhost:8080/"
        },
        "id": "87jVPQM4WHPD",
        "outputId": "9944d921-b399-4543-e6b3-539b9182c26f"
      },
      "execution_count": null,
      "outputs": [
        {
          "output_type": "stream",
          "name": "stdout",
          "text": [
            "Similar types: True\n",
            "Equal: False\n",
            "City smaller than travel destination: False\n"
          ]
        }
      ]
    },
    {
      "cell_type": "markdown",
      "source": [
        "\n",
        "\n",
        "---\n",
        "\n",
        "####**Άσκηση 5**\n",
        "\n",
        "**Try yourself**: Φτιάξτε ένα νέο κελί κώδικα (Code cell) ακριβώς κάτω από αυτό και κάνετε τα παρακάτω:\n",
        "\n",
        "* δημιουργήστε μια μεταβλητή με τιμή την datetime ημερομηνία δημοσίευσης ενός άρθρου: 2023-03-24T12:07:19+02:00\n",
        "* απομονώστε την ημερομηνία και αποθηκεύστε τη σε μια μεταβλητή με κατάλληλο όνομα\n",
        "* τυπώστε την ημερομηνία\n",
        "* φτιάξτε ένα νέο code cell\n",
        "* αποθηκεύστε σε διαφορετικές μεταβλητές το έτος, το μήνα και την ημέρα (**tip**: κάντε το ένα ένα και τυπώνετε για να βλέπετε αν το κάνετε σωστά)\n",
        "* φτιάξτε ένα νέο code cell\n",
        "* απομονώστε την ώρα (το 12:07:19) και αποθηκεύστε τη σε μια νέα μεταβλητή \n",
        "* φτιάξτε ένα νέο code cell\n",
        "* χρησιμοποιώντας τις μεταβλητές που φτιάξατε, δημιουργήστε μια νέα μεταβλητή με όνομα custom_daytime που θα περιέχει: <ημέρα>/<μήνας>/<έτος>, ώρα: <ώρα>\n",
        "* και τυπώστε τη στην οθόνη"
      ],
      "metadata": {
        "id": "jIk9BoTu-f05"
      }
    },
    {
      "cell_type": "code",
      "source": [
        "published_datetime = \"2023-03-24T12:07:19+02:00\"\n",
        "date = published_datetime.split('T')[0]\n",
        "print(date)\n"
      ],
      "metadata": {
        "colab": {
          "base_uri": "https://localhost:8080/"
        },
        "id": "WG-xoSXyZbQF",
        "outputId": "ecdc4400-0dfc-49fb-a7a2-29d5f0a589a9"
      },
      "execution_count": null,
      "outputs": [
        {
          "output_type": "stream",
          "name": "stdout",
          "text": [
            "2023-03-24\n"
          ]
        }
      ]
    },
    {
      "cell_type": "code",
      "source": [
        "year = date.split('-')[0]\n",
        "print(\"Year:\", year)\n",
        "\n",
        "month = date.split('-')[1]\n",
        "print(\"Month:\", month)\n",
        "\n",
        "day = date.split('-')[2]\n",
        "print(\"Day:\", day)"
      ],
      "metadata": {
        "colab": {
          "base_uri": "https://localhost:8080/"
        },
        "id": "dMBv1NegaAz8",
        "outputId": "54d02ef8-bb27-4fa4-9b84-0a24078a3584"
      },
      "execution_count": null,
      "outputs": [
        {
          "output_type": "stream",
          "name": "stdout",
          "text": [
            "Year: 2023\n",
            "Month: 03\n",
            "Day: 24\n"
          ]
        }
      ]
    },
    {
      "cell_type": "code",
      "source": [
        "time = published_datetime.split('T')[1].split('+')[0]\n"
      ],
      "metadata": {
        "id": "AhjBQxZVb6bi"
      },
      "execution_count": null,
      "outputs": []
    },
    {
      "cell_type": "code",
      "source": [
        "custom_daytime = day + '/' + month + '/' + year + ', ώρα: ' + time\n",
        "\n",
        "print(custom_daytime)"
      ],
      "metadata": {
        "colab": {
          "base_uri": "https://localhost:8080/"
        },
        "id": "wLnFeeG6b60F",
        "outputId": "dc491a72-cdb9-42c5-cb4a-e8409686db9c"
      },
      "execution_count": null,
      "outputs": [
        {
          "output_type": "stream",
          "name": "stdout",
          "text": [
            "24/03/2023, ώρα: 12:07:19\n"
          ]
        }
      ]
    },
    {
      "cell_type": "markdown",
      "source": [
        "\n",
        "\n",
        "---\n",
        "\n",
        "####**Άσκηση 6**\n",
        "\n",
        "**Try yourself**: Φτιάξτε ένα νέο κελί κώδικα (Code cell) ακριβώς κάτω από αυτό και κάνετε τα παρακάτω:\n",
        "\n",
        "1. Δημιουργήστε μια κενή λίστα με όνομα usersL\n",
        "2. Φτιάξτε μια μεταβλητή με όνομα email1 και τιμή ένα email\n",
        "3. Βρείτε το index του \"@\" (με function) και αποθηκεύστε το σε μια μεταβλητή με όνομα at1\n",
        "4. Πάρτε (slice) το τμήμα του mail που έχει μόνο το όνομα, αποθηκεύστε το σε μια μεταβλητή με όνομα user1 και βάλτε το στη λίστα usersL\n",
        "5. Επαναλάβετε τα βήματα 2-4 άλλη 1 φορά (κάντε copy-paste και αλλάξτε ό,τι χρειάζεται)\n",
        "6. Ταξινομήστε τα περιεχόμενα της λίστας με αύξουσα σειρά και\n",
        "7. Τυπώστε τα περιεχόμενά της στην οθόνη\n",
        "\n",
        "**Tip**: χρησιμοποιήστε όσα κελιά θέλετε έτσι ώστε να ελέγχετε τι κάνετε σε κάθε βήμα"
      ],
      "metadata": {
        "id": "_agWj9vpdYL9"
      }
    },
    {
      "cell_type": "code",
      "source": [
        "usersL = []\n",
        "\n",
        "email1 = \"nikospiliouras@gmail.com\"\n",
        "at1 = email1.index(\"@\")\n",
        "user1 = email1[:at1]\n",
        "print(user1)"
      ],
      "metadata": {
        "colab": {
          "base_uri": "https://localhost:8080/"
        },
        "id": "BbzClzWjhcDB",
        "outputId": "f0b486bc-08d2-450b-f54f-ebcc9533826c"
      },
      "execution_count": null,
      "outputs": [
        {
          "output_type": "stream",
          "name": "stdout",
          "text": [
            "nikospiliouras\n"
          ]
        }
      ]
    },
    {
      "cell_type": "code",
      "source": [
        "usersL.append(user1)\n",
        "print(usersL)"
      ],
      "metadata": {
        "colab": {
          "base_uri": "https://localhost:8080/"
        },
        "id": "SpsMrJu8iT5E",
        "outputId": "f4b93f57-5d81-4bbd-f07e-8b5fd9a316fc"
      },
      "execution_count": null,
      "outputs": [
        {
          "output_type": "stream",
          "name": "stdout",
          "text": [
            "['nikospiliouras']\n"
          ]
        }
      ]
    },
    {
      "cell_type": "code",
      "source": [
        "email2 = \"aggelikipilioura@gmail.com\"\n",
        "at2 = email2.index(\"@\")\n",
        "user2 = email2[:at2]\n",
        "print(user2)"
      ],
      "metadata": {
        "colab": {
          "base_uri": "https://localhost:8080/"
        },
        "id": "2YvY0CtOiYfb",
        "outputId": "a840f082-b321-4029-ad96-13a3f52f614c"
      },
      "execution_count": null,
      "outputs": [
        {
          "output_type": "stream",
          "name": "stdout",
          "text": [
            "aggelikipilioura\n"
          ]
        }
      ]
    },
    {
      "cell_type": "code",
      "source": [
        "usersL.append(user2)\n",
        "print(usersL)"
      ],
      "metadata": {
        "colab": {
          "base_uri": "https://localhost:8080/"
        },
        "id": "5BBl4cpVikiC",
        "outputId": "12a53be9-4df3-43be-e1c5-e113bb2e755e"
      },
      "execution_count": null,
      "outputs": [
        {
          "output_type": "stream",
          "name": "stdout",
          "text": [
            "['nikospiliouras', 'aggelikipilioura']\n"
          ]
        }
      ]
    },
    {
      "cell_type": "code",
      "source": [
        "usersL.sort()\n",
        "print(usersL)"
      ],
      "metadata": {
        "colab": {
          "base_uri": "https://localhost:8080/"
        },
        "id": "oXwU2lfJinE3",
        "outputId": "0d0eea67-9931-4dfa-c908-32c003ef7220"
      },
      "execution_count": null,
      "outputs": [
        {
          "output_type": "stream",
          "name": "stdout",
          "text": [
            "['aggelikipilioura', 'nikospiliouras']\n"
          ]
        }
      ]
    },
    {
      "cell_type": "markdown",
      "source": [
        "\n",
        "\n",
        "---\n",
        "\n",
        "####**Άσκηση 7**\n",
        "\n",
        "**Try yourself**: Σ' αυτή την άσκηση θα φτιάξουμε μια λίστα στην οποία θα αποθηκεύουμε δίάφορα δεδομένα από άρθρα που δημοσιεύονται σε sites.\n",
        "\n",
        "Φτιάξτε ένα νέο κελί κώδικα (Code cell) ακριβώς κάτω από αυτό και κάνετε τα παρακάτω:\n",
        "\n",
        "1. Δημιουργήστε μια κενή λίστα όπου θα αποθηκεύετε τα δεδομένα των άρθρων\n",
        "2. Δημιουργήστε ένα λεξικό με τα στοιχεία του πρώτου άρθρου που θα συλλέξετε από ένα site: \"Τίτλος\", \"Ημερομηνία\", \"Κατηγορία\", \"url\"\n",
        "3. Επαναλάβετε το 2 για ακόμα ένα άρθρο\n",
        "4. Προσθέστε τα λεξικά στη λίστα.\n",
        "5. Τυπώστε στην οθόνη τον τίτλο του 2ου άρθρου\n",
        "6. Προσθέστε και στα 2 άρθρα μια εγγραφή με το όνομα του αντίστοιχου site που πήρατε το άρθρο\n",
        "7. Τυπώστε στην οθόνη το πλήθος των λεξικών που έχει η λίστα.\n",
        "\n",
        "**Tip**:Δουλέψτε τμηματικά και ελέγχετε σε κάθε βήμα αυτό που κάνετε."
      ],
      "metadata": {
        "id": "KpVX9pHLNgB6"
      }
    },
    {
      "cell_type": "code",
      "source": [
        "articles_data = []\n",
        "\n",
        "article1 = {\n",
        "    \"Τίτλος\": \"Python for Beginners\",\n",
        "    \"Ημερομηνία\": \"2023-04-01\",\n",
        "    \"Κατηγορία\": \"Programming\",\n",
        "    \"url\": \"https://example.com/python-for-beginners\"\n",
        "}\n",
        "\n",
        "article2 = {\n",
        "    \"Τίτλος\": \"Advanced Machine Learning Techniques\",\n",
        "    \"Ημερομηνία\": \"2023-04-02\",\n",
        "    \"Κατηγορία\": \"Data Science\",\n",
        "    \"url\": \"https://example.com/advanced-machine-learning\"\n",
        "}"
      ],
      "metadata": {
        "id": "Ramlj6Irjjye"
      },
      "execution_count": null,
      "outputs": []
    },
    {
      "cell_type": "code",
      "source": [
        "articles_data.append(article1)\n",
        "print(articles_data)\n",
        "articles_data.append(article2)\n",
        "print(articles_data)"
      ],
      "metadata": {
        "colab": {
          "base_uri": "https://localhost:8080/"
        },
        "id": "KoYq4TD5jzdK",
        "outputId": "b3d05bf7-85d3-496f-ab45-c70854d037ca"
      },
      "execution_count": null,
      "outputs": [
        {
          "output_type": "stream",
          "name": "stdout",
          "text": [
            "[{'Τίτλος': 'Python for Beginners', 'Ημερομηνία': '2023-04-01', 'Κατηγορία': 'Programming', 'url': 'https://example.com/python-for-beginners'}]\n",
            "[{'Τίτλος': 'Python for Beginners', 'Ημερομηνία': '2023-04-01', 'Κατηγορία': 'Programming', 'url': 'https://example.com/python-for-beginners'}, {'Τίτλος': 'Advanced Machine Learning Techniques', 'Ημερομηνία': '2023-04-02', 'Κατηγορία': 'Data Science', 'url': 'https://example.com/advanced-machine-learning'}]\n"
          ]
        }
      ]
    },
    {
      "cell_type": "code",
      "source": [
        "print(articles_data[1][\"Τίτλος\"])"
      ],
      "metadata": {
        "colab": {
          "base_uri": "https://localhost:8080/"
        },
        "id": "aFX8zbK5j0SU",
        "outputId": "47204ebb-b993-48d1-a3f5-58188143173e"
      },
      "execution_count": null,
      "outputs": [
        {
          "output_type": "stream",
          "name": "stdout",
          "text": [
            "Advanced Machine Learning Techniques\n"
          ]
        }
      ]
    },
    {
      "cell_type": "code",
      "source": [
        "\n",
        "source = \"Example News\"\n",
        "for article in articles_data:\n",
        "    article[\"Πηγή\"] = source\n",
        "\n",
        "print(articles_data)"
      ],
      "metadata": {
        "colab": {
          "base_uri": "https://localhost:8080/"
        },
        "id": "goOc7fY2kmrz",
        "outputId": "f34dbb15-66cc-4641-d409-c268830a0466"
      },
      "execution_count": null,
      "outputs": [
        {
          "output_type": "stream",
          "name": "stdout",
          "text": [
            "[{'Τίτλος': 'Python for Beginners', 'Ημερομηνία': '2023-04-01', 'Κατηγορία': 'Programming', 'url': 'https://example.com/python-for-beginners', 'Πηγή': 'Example News'}, {'Τίτλος': 'Advanced Machine Learning Techniques', 'Ημερομηνία': '2023-04-02', 'Κατηγορία': 'Data Science', 'url': 'https://example.com/advanced-machine-learning', 'Πηγή': 'Example News'}]\n"
          ]
        }
      ]
    },
    {
      "cell_type": "code",
      "source": [
        "print(\"Number of dictionaries in the list: \", len(articles_data))"
      ],
      "metadata": {
        "colab": {
          "base_uri": "https://localhost:8080/"
        },
        "id": "b_lVQDO3lW5j",
        "outputId": "b05b608f-8873-4274-d350-24fcffd46c59"
      },
      "execution_count": null,
      "outputs": [
        {
          "output_type": "stream",
          "name": "stdout",
          "text": [
            "Number of dictionaries in the list:  2\n"
          ]
        }
      ]
    }
  ]
}