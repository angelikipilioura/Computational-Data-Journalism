{
  "cells": [
    {
      "cell_type": "markdown",
      "metadata": {
        "id": "view-in-github",
        "colab_type": "text"
      },
      "source": [
        "<a href=\"https://colab.research.google.com/github/angelikipilioura/Computational-Data-Journalism/blob/main/Homework_for_Lesson_3_Intro_to_Pandas_Angeliki_Pilioura.ipynb\" target=\"_parent\"><img src=\"https://colab.research.google.com/assets/colab-badge.svg\" alt=\"Open In Colab\"/></a>"
      ]
    },
    {
      "cell_type": "markdown",
      "metadata": {
        "id": "NTN7HtK3cR4Y"
      },
      "source": [
        "# Homework for Lesson 3: Intro to Pandas\n",
        "\n",
        "## **Φτιάχνουμε ένα notebook αναφοράς στα βασικά εργαλεία των Pandas**\n",
        "Το notebook αυτό θα μπορείτε να το χρησιμοποιήσετε μελλοντικά.\n",
        "\n",
        "**Χρησιμοποιούμε το αρχείο `animals.csv` (από το repository του Lesson 3 στο github) για να απαντήσουμε στις παρακάτω ερωτήσεις.** \n",
        "\n",
        "## We're going to make a notebook that you could use it as reference to basic Pandas tools for future use\n",
        "\n",
        "We'll use the **'animals.csv'** file (from Lesson 3 repository in github), to answer the following questions."
      ]
    },
    {
      "cell_type": "markdown",
      "metadata": {
        "id": "PcqF2MLBcR4b"
      },
      "source": [
        "## 0) Setup\n",
        "\n",
        "Κάντε Import pandas **με την σωστή ονομασία** και εισάγετε την `matplotlib.pyplot` για να εμφανίζονται τα γραφικά στο notebook.\n",
        "\n",
        "> **Note**: η εντολή για την εισαγωγή της matplotlib.pyplot υπάρχει στο notebook του Lesson 3, στην ενότητα \"Εισαγωγή βιβλιοθηκών στην Python\" > \"Εισαγωγή βιβλιοθήκης με σύντομο όνομα\" \n",
        "\n",
        "Import pandas **with the right name** and import `matplotlib.pyplot` in order to print graphs in thw notebook.\n",
        "\n",
        "> **Note**: you can find the code to import matplotlib.pyplot in Lesson 3 notebook (section: \"Importing libraries in Python\" > \"Importing a library with a sort name\")"
      ]
    },
    {
      "cell_type": "code",
      "execution_count": null,
      "metadata": {
        "id": "kZMvJ-5jcR4c"
      },
      "outputs": [],
      "source": [
        "import pandas as pd\n",
        "import matplotlib.pyplot as plt"
      ]
    },
    {
      "cell_type": "markdown",
      "metadata": {
        "id": "QRVyABkDcR4d"
      },
      "source": [
        "## 1) Διαβάστε το csv - Read the csv file (with pandas)\n",
        "\n",
        "> **Note**: remember to use the **raw** file's url"
      ]
    },
    {
      "cell_type": "code",
      "execution_count": null,
      "metadata": {
        "id": "_1abFrOncR4e"
      },
      "outputs": [],
      "source": [
        "animals  = pd.read_csv(\"https://raw.githubusercontent.com/datajour-gr/DataJournalism/main/Bachelor%20Lessons%202023/Lesson%203/animals.csv\")"
      ]
    },
    {
      "cell_type": "markdown",
      "metadata": {
        "id": "B05vCqDtcR4e"
      },
      "source": [
        "## 2) Τσεκάρετε τα δεδομένα - Review the data\n",
        "\n",
        "Τυπώστε τον αριθμό γραμμών και στηλών καθώς και το όνομα και τον τύπο δεδομένων της κάθε στήλης (column).\n",
        "\n",
        "Print the number of lines and columns, as well as the name and data type of each column."
      ]
    },
    {
      "cell_type": "code",
      "execution_count": null,
      "metadata": {
        "id": "tsseoFkpcR4f",
        "colab": {
          "base_uri": "https://localhost:8080/"
        },
        "outputId": "c4f0c349-25ab-462a-eef7-0b9e2d6fe64d"
      },
      "outputs": [
        {
          "output_type": "stream",
          "name": "stdout",
          "text": [
            "Number of rows: 6\n"
          ]
        }
      ],
      "source": [
        "print(\"Number of rows:\", len(animals))"
      ]
    },
    {
      "cell_type": "code",
      "execution_count": null,
      "metadata": {
        "id": "_M3iCwFGcR4f",
        "colab": {
          "base_uri": "https://localhost:8080/"
        },
        "outputId": "b182453c-cbaa-4c18-f521-4b17e888a020"
      },
      "outputs": [
        {
          "output_type": "stream",
          "name": "stdout",
          "text": [
            "Number of columns: 3\n"
          ]
        }
      ],
      "source": [
        "print(\"Number of columns:\", len(animals.columns))"
      ]
    },
    {
      "cell_type": "code",
      "source": [
        "animals.dtypes"
      ],
      "metadata": {
        "id": "bGSsmA_udj5r",
        "colab": {
          "base_uri": "https://localhost:8080/"
        },
        "outputId": "c6a1be7a-91be-4132-fca7-ce302d955e42"
      },
      "execution_count": null,
      "outputs": [
        {
          "output_type": "execute_result",
          "data": {
            "text/plain": [
              "animal    object\n",
              "name      object\n",
              "length     int64\n",
              "dtype: object"
            ]
          },
          "metadata": {},
          "execution_count": 10
        }
      ]
    },
    {
      "cell_type": "markdown",
      "metadata": {
        "id": "rQSgzqL0cR4g"
      },
      "source": [
        "## 3) Τυπώστε τα πρώτα 3 και τα τελευταία 2 ζώα\n",
        "\n",
        "### Print the first 3 and the last 2 animals"
      ]
    },
    {
      "cell_type": "code",
      "execution_count": null,
      "metadata": {
        "id": "V6hriSTrcR4h",
        "colab": {
          "base_uri": "https://localhost:8080/"
        },
        "outputId": "defe2065-a846-45c1-ad21-a8405d94890d"
      },
      "outputs": [
        {
          "output_type": "stream",
          "name": "stdout",
          "text": [
            "First 3 animals:\n",
            "  animal        name  length\n",
            "0    cat        Anne      35\n",
            "1    cat         Bob      45\n",
            "2    dog  Egglesburg      65\n"
          ]
        }
      ],
      "source": [
        "print(\"First 3 animals:\")\n",
        "print(animals.head(3))"
      ]
    },
    {
      "cell_type": "code",
      "source": [
        "print(\"Last 2 animals:\")\n",
        "print(animals.tail(2))"
      ],
      "metadata": {
        "id": "J099VwHHdybN",
        "colab": {
          "base_uri": "https://localhost:8080/"
        },
        "outputId": "4952c371-b0a0-4aba-9373-eed990ecbc00"
      },
      "execution_count": null,
      "outputs": [
        {
          "output_type": "stream",
          "name": "stdout",
          "text": [
            "Last 2 animals:\n",
            "  animal      name  length\n",
            "4    cat   Charlie      32\n",
            "5    dog  Fontaine      35\n"
          ]
        }
      ]
    },
    {
      "cell_type": "markdown",
      "metadata": {
        "id": "t-LgBnANcR4h"
      },
      "source": [
        "## 4) Σορτάρετε τα ζωά για να τυπώσετε τα 3 μακρύτερα\n",
        "\n",
        "### Sort animals to print the 3 top ones regarding length\n",
        "\n",
        "> **Note**: Χρησιμοποιήστε το `.head()` μετά το sort!\n",
        "\n",
        "> Use `.head()` after sorting!"
      ]
    },
    {
      "cell_type": "code",
      "execution_count": null,
      "metadata": {
        "id": "h2XrmmOhcR4i",
        "colab": {
          "base_uri": "https://localhost:8080/"
        },
        "outputId": "dc785ed6-fb87-428d-c3ea-3f32c768238f"
      },
      "outputs": [
        {
          "output_type": "stream",
          "name": "stdout",
          "text": [
            "Top 3 animals by length:\n",
            "  animal        name  length\n",
            "2    dog  Egglesburg      65\n",
            "3    dog       Devon      50\n",
            "1    cat         Bob      45\n"
          ]
        }
      ],
      "source": [
        "top_three_animals = animals.sort_values('length', ascending=False).head(3)\n",
        "\n",
        "print(\"Top 3 animals by length:\")\n",
        "print(top_three_animals)"
      ]
    },
    {
      "cell_type": "markdown",
      "metadata": {
        "id": "Adbjhe02cR4j"
      },
      "source": [
        "## 5) Τυπώστε όλα τα στατιστικά μεγέθη από τα μήκη των ζώων\n",
        "\n",
        "### Print all statistical values for animals' lengths (minimum, maximum, mean, median, standard deviation)"
      ]
    },
    {
      "cell_type": "code",
      "source": [
        "print(\"Minimum length:\", animals['length'].min())"
      ],
      "metadata": {
        "id": "I3zfS64fejiF",
        "colab": {
          "base_uri": "https://localhost:8080/"
        },
        "outputId": "6ef78002-6f28-41bc-eaaf-356331be0c60"
      },
      "execution_count": null,
      "outputs": [
        {
          "output_type": "stream",
          "name": "stdout",
          "text": [
            "Minimum length: 32\n"
          ]
        }
      ]
    },
    {
      "cell_type": "code",
      "source": [
        "print(\"Maximum length:\", animals['length'].max())"
      ],
      "metadata": {
        "id": "KhdK6FcgenRW",
        "colab": {
          "base_uri": "https://localhost:8080/"
        },
        "outputId": "4819798c-5790-45ae-a7f2-a2005f558965"
      },
      "execution_count": null,
      "outputs": [
        {
          "output_type": "stream",
          "name": "stdout",
          "text": [
            "Maximum length: 65\n"
          ]
        }
      ]
    },
    {
      "cell_type": "code",
      "source": [
        "print(\"Mean length:\", animals['length'].mean())"
      ],
      "metadata": {
        "id": "oCpr-81ueq4F",
        "colab": {
          "base_uri": "https://localhost:8080/"
        },
        "outputId": "72379075-96dc-4579-9ff0-4dec89f4787d"
      },
      "execution_count": null,
      "outputs": [
        {
          "output_type": "stream",
          "name": "stdout",
          "text": [
            "Mean length: 43.666666666666664\n"
          ]
        }
      ]
    },
    {
      "cell_type": "code",
      "source": [
        "print(\"Median length:\", animals['length'].median())"
      ],
      "metadata": {
        "id": "onELccikewEf",
        "colab": {
          "base_uri": "https://localhost:8080/"
        },
        "outputId": "31471ca8-f52f-4aad-b64b-80223088cba9"
      },
      "execution_count": null,
      "outputs": [
        {
          "output_type": "stream",
          "name": "stdout",
          "text": [
            "Median length: 40.0\n"
          ]
        }
      ]
    },
    {
      "cell_type": "code",
      "source": [
        "print(\"Standard deviation of length:\", animals['length'].std())"
      ],
      "metadata": {
        "id": "4Oa4fPSOe5KS",
        "colab": {
          "base_uri": "https://localhost:8080/"
        },
        "outputId": "1441cde8-e548-4769-f535-547e4efb1821"
      },
      "execution_count": null,
      "outputs": [
        {
          "output_type": "stream",
          "name": "stdout",
          "text": [
            "Standard deviation of length: 12.516655570345725\n"
          ]
        }
      ]
    },
    {
      "cell_type": "markdown",
      "metadata": {
        "id": "bjzagCH_cR4j"
      },
      "source": [
        "## 6) Πόσες γάτες και πόσοι σκύλοι υπάρχουν στα δεδομένα? \n",
        "\n",
        "### How many cats and how many dogs are there in the dataset?\n"
      ]
    },
    {
      "cell_type": "code",
      "execution_count": null,
      "metadata": {
        "id": "ggFrmX7lcR4k",
        "colab": {
          "base_uri": "https://localhost:8080/"
        },
        "outputId": "095d8bc9-a912-4cc1-fc4b-b4dd8d14aa80"
      },
      "outputs": [
        {
          "output_type": "stream",
          "name": "stdout",
          "text": [
            "Number of cats: 3\n",
            "Number of dogs: 3\n"
          ]
        }
      ],
      "source": [
        "counts = animals.groupby('animal')['name'].count()\n",
        "\n",
        "print(\"Number of cats:\", counts['cat'])\n",
        "print(\"Number of dogs:\", counts['dog'])"
      ]
    },
    {
      "cell_type": "markdown",
      "metadata": {
        "id": "Uqx1SF_pcR4k"
      },
      "source": [
        "## 7) Τυπώστε μόνο τους σκύλους \n",
        "\n",
        "### Print only the dogs\n",
        "\n",
        "> **Note**: Δείτε στο Lesson 3 την ενότητα 7 - Φιλτράρισμα (filtering). Ίσως είναι πιο εύκολο να τυπώσετε πρώτα τη λίστα με τα `True`/`False` και μετά να βάλετε την εντολή μέσα σε ένα ακόμα `df[]`.\n",
        "\n",
        "See Lesson 3, section: 7 - Φιλτράρισμα (filtering). It might be easier to print the list with `True`/`False` values first and then to put the code in a `df[]`."
      ]
    },
    {
      "cell_type": "code",
      "execution_count": null,
      "metadata": {
        "id": "tLqfs99dcR4l",
        "colab": {
          "base_uri": "https://localhost:8080/"
        },
        "outputId": "9f83ede2-28af-4390-a393-c3002eef6c24"
      },
      "outputs": [
        {
          "output_type": "stream",
          "name": "stdout",
          "text": [
            "0    False\n",
            "1    False\n",
            "2     True\n",
            "3     True\n",
            "4    False\n",
            "5     True\n",
            "Name: animal, dtype: bool \n",
            "\n",
            "  animal        name  length\n",
            "2    dog  Egglesburg      65\n",
            "3    dog       Devon      50\n",
            "5    dog    Fontaine      35\n"
          ]
        }
      ],
      "source": [
        "mask = animals['animal'] == 'dog'\n",
        "\n",
        "print(mask, '\\n')\n",
        "\n",
        "dogs = animals[mask]\n",
        "\n",
        "print(dogs)"
      ]
    },
    {
      "cell_type": "markdown",
      "metadata": {
        "id": "q2Nx9X3AcR4l"
      },
      "source": [
        "## 8) Τυπώστε τα ζώα με μήκος μεγαλύτερο από 40cm\n",
        "\n",
        "### Print animals with length greater than 40cm"
      ]
    },
    {
      "cell_type": "code",
      "execution_count": null,
      "metadata": {
        "id": "Dfud38sMcR4n",
        "colab": {
          "base_uri": "https://localhost:8080/"
        },
        "outputId": "9f0faafe-d7be-43e3-bf90-3506cac3de84"
      },
      "outputs": [
        {
          "output_type": "stream",
          "name": "stdout",
          "text": [
            "  animal        name  length\n",
            "1    cat         Bob      45\n",
            "2    dog  Egglesburg      65\n",
            "3    dog       Devon      50\n"
          ]
        }
      ],
      "source": [
        "long_animals = animals[animals['length'] > 40]\n",
        "\n",
        "print(long_animals)"
      ]
    },
    {
      "cell_type": "markdown",
      "metadata": {
        "id": "t1hGK7U2cR4n"
      },
      "source": [
        "## 9) `length` είναι το μέγεθος των ζώων σε εκατοστά. Φτιάξτε μια νέα στήλη που να λέγεται  `length in m` και αντιστοιχεί στο μέγεθος των ζώων σε μέτρα. \n",
        "\n",
        "### `length` is measured in centimeters. Create a new column named `length in m` with lengths calculated in meters."
      ]
    },
    {
      "cell_type": "code",
      "execution_count": null,
      "metadata": {
        "id": "ASEOudJmcR4n",
        "colab": {
          "base_uri": "https://localhost:8080/"
        },
        "outputId": "c1cc107c-8a10-45f2-8180-c68bddcbc1a3"
      },
      "outputs": [
        {
          "output_type": "stream",
          "name": "stdout",
          "text": [
            "  animal        name  length  length_m\n",
            "0    cat        Anne      35      0.35\n",
            "1    cat         Bob      45      0.45\n",
            "2    dog  Egglesburg      65      0.65\n",
            "3    dog       Devon      50      0.50\n",
            "4    cat     Charlie      32      0.32\n",
            "5    dog    Fontaine      35      0.35\n"
          ]
        }
      ],
      "source": [
        "animals['length_m'] = animals['length'] / 100\n",
        "\n",
        "print(animals)"
      ]
    },
    {
      "cell_type": "markdown",
      "metadata": {
        "id": "UseZ8LeNcR4o"
      },
      "source": [
        "## 10) Σώστε τις γάτες σε μια νέα μεταβλητή που να λέγεται  `cats` και σε μια άλλη τους σκύλους `dogs`. \n",
        "\n",
        "### Create a new variable named `cats` that will contain only the cats and another one named `dogs` for the dogs."
      ]
    },
    {
      "cell_type": "code",
      "execution_count": null,
      "metadata": {
        "id": "32vwYM_ZcR4o",
        "colab": {
          "base_uri": "https://localhost:8080/"
        },
        "outputId": "297ecb38-b6b9-4bd5-d5b7-d345a3381c69"
      },
      "outputs": [
        {
          "output_type": "stream",
          "name": "stdout",
          "text": [
            "  animal     name  length  length_m\n",
            "0    cat     Anne      35      0.35\n",
            "1    cat      Bob      45      0.45\n",
            "4    cat  Charlie      32      0.32\n"
          ]
        }
      ],
      "source": [
        "cats = animals[animals['animal'] == 'cat']\n",
        "print(cats)"
      ]
    },
    {
      "cell_type": "code",
      "source": [
        "dogs = animals[animals['animal'] == 'dog']\n",
        "print(dogs)"
      ],
      "metadata": {
        "id": "SuMhcT7vghye",
        "colab": {
          "base_uri": "https://localhost:8080/"
        },
        "outputId": "5b772e2f-617d-4d16-c318-0dd79883074b"
      },
      "execution_count": null,
      "outputs": [
        {
          "output_type": "stream",
          "name": "stdout",
          "text": [
            "  animal        name  length  length_m\n",
            "2    dog  Egglesburg      65      0.65\n",
            "3    dog       Devon      50      0.50\n",
            "5    dog    Fontaine      35      0.35\n"
          ]
        }
      ]
    },
    {
      "cell_type": "markdown",
      "metadata": {
        "id": "lj5MUfPUcR4o"
      },
      "source": [
        "## 11) Τυπώστε όλα τα ζώα που είναι γάτες και το μήκος τους είναι πάνω από 12 εκατοστά \n",
        "\n",
        "**Πρώτα** κάντε το χρησιμοποιώντας την μεταβλητή `cats` και **μετά ξανά** σε όλο το `df`.\n",
        "\n",
        "> **Note**: Για πολλαπλά conditions, χρησιμοποιήστε `df[(one condition) & (another condition)]`\n",
        "\n",
        "### Print all animals that are cats with length greater than 12cm\n",
        "\n",
        "Do it twice: 1) use `cats` variable, 2) use the whole dataframe\n",
        "\n",
        "> **Note**: multiple conditions are coded like this: `df[(one condition) & (another condition)]`. See section 7.2 Φιλτράρισμα βάση ΠΟΛΛΩΝ συνθηκών (filtering based on multiple conditions) in Lesson 3 notebook."
      ]
    },
    {
      "cell_type": "code",
      "execution_count": null,
      "metadata": {
        "id": "FqEBKhpRcR4p",
        "colab": {
          "base_uri": "https://localhost:8080/"
        },
        "outputId": "cd8d1678-4d4e-4dae-bae5-20c17cc94301"
      },
      "outputs": [
        {
          "output_type": "stream",
          "name": "stdout",
          "text": [
            "  animal     name  length  length_m\n",
            "0    cat     Anne      35      0.35\n",
            "1    cat      Bob      45      0.45\n",
            "4    cat  Charlie      32      0.32\n"
          ]
        }
      ],
      "source": [
        "cats_longer_than_12cm = cats[cats['length'] > 12]\n",
        "\n",
        "print(cats_longer_than_12cm)"
      ]
    },
    {
      "cell_type": "code",
      "source": [
        "cats_longer_than_12cm = animals[(animals['animal'] == 'cat') & (animals['length'] > 12)]\n",
        "\n",
        "print(cats_longer_than_12cm)"
      ],
      "metadata": {
        "id": "LSFxhBN9hCPs",
        "colab": {
          "base_uri": "https://localhost:8080/"
        },
        "outputId": "c54acc07-a7a6-4e9c-c533-1684b8bf730e"
      },
      "execution_count": null,
      "outputs": [
        {
          "output_type": "stream",
          "name": "stdout",
          "text": [
            "  animal     name  length  length_m\n",
            "0    cat     Anne      35      0.35\n",
            "1    cat      Bob      45      0.45\n",
            "4    cat  Charlie      32      0.32\n"
          ]
        }
      ]
    },
    {
      "cell_type": "markdown",
      "metadata": {
        "id": "C-PnDWlVcR4p"
      },
      "source": [
        "## 12) Ποιο είναι το μέσο (mean) μήκος της γάτας και ποιο του σκύλου? \n",
        "\n",
        "### Print the average length (mean) for cats and for dogs\n"
      ]
    },
    {
      "cell_type": "code",
      "execution_count": null,
      "metadata": {
        "id": "j0-LJy6pcR4q",
        "colab": {
          "base_uri": "https://localhost:8080/"
        },
        "outputId": "6c028cd6-65a8-4731-a676-b8ce9b7a5343"
      },
      "outputs": [
        {
          "output_type": "stream",
          "name": "stdout",
          "text": [
            "Mean length for cats:  37.333333333333336\n"
          ]
        }
      ],
      "source": [
        "cats_mean_length = cats['length'].mean()\n",
        "print(\"Mean length for cats: \", cats_mean_length)"
      ]
    },
    {
      "cell_type": "code",
      "source": [
        "dogs_mean_length = dogs['length'].mean()\n",
        "print(\"Mean length for dogs: \", dogs_mean_length)"
      ],
      "metadata": {
        "id": "aOtDmmTBiGTC",
        "colab": {
          "base_uri": "https://localhost:8080/"
        },
        "outputId": "7eb44b1b-1a52-4f5c-d33b-42e0de4fb063"
      },
      "execution_count": null,
      "outputs": [
        {
          "output_type": "stream",
          "name": "stdout",
          "text": [
            "Mean length for dogs:  50.0\n"
          ]
        }
      ]
    },
    {
      "cell_type": "markdown",
      "metadata": {
        "id": "KwzVFNx-cR4q"
      },
      "source": [
        "## 13) Αν δεν το κάνατε ήδη χρησιμοποιήστε το `groupby` για να ξανατυπώσετε το #12 \n",
        "\n",
        "### In case you haven't done so, use `groupby` to print #12"
      ]
    },
    {
      "cell_type": "code",
      "execution_count": null,
      "metadata": {
        "id": "7jR8Lm7PcR4r",
        "colab": {
          "base_uri": "https://localhost:8080/"
        },
        "outputId": "4707cb8c-7653-4100-f722-13e5827f3b30"
      },
      "outputs": [
        {
          "output_type": "stream",
          "name": "stdout",
          "text": [
            "Mean length for cats:  37.333333333333336\n",
            "Mean length for dogs:  50.0\n"
          ]
        }
      ],
      "source": [
        "mean_lengths = animals.groupby('animal')['length'].mean()\n",
        "\n",
        "print(\"Mean length for cats: \", mean_lengths['cat'])\n",
        "print(\"Mean length for dogs: \", mean_lengths['dog'])"
      ]
    },
    {
      "cell_type": "markdown",
      "metadata": {
        "id": "uWyq7ptDcR4r"
      },
      "source": [
        "## 14) Φτιάξτε ένα οριζόντιο γράφημα με τα μήκη των ζώων και με το όνομά τους στο label\n",
        "\n",
        "> **Notes**: Δείτε στο notebook του Lesson 3 την ενότητα \"10.2. Γράφημα 2 μεταβλητών\"\n",
        "\n",
        "> Αν σας παιδεύει, δοκιμάστε να αλλάξετε τις στήλες στους άξονες x και y\n",
        "\n",
        "> Μπορείτε να αλλάξετε το μέγεθος του γραφήματος προσθέτοντας `figsize=(5,3)` στις παραμέτρους της plot() και αλλάοντας τους αριθμούς στην παρένθεση για να δείτε πώς λειτουργεί\n",
        "\n",
        "### Print an horizontal bar chart for animals' lengths with their names in labels\n",
        "\n",
        "> **Notes**: see chapter \"10.2. Γράφημα 2 μεταβλητών (graphs with 2 variables)\"\n",
        "\n",
        "> If the graph doesn't show up, try to swap columns in axes x and y\n",
        "\n",
        "> You can also change the graph's size by adding `figsize=(5,3)` in plot() parameters and try some values inside the parenthesis to see how it works"
      ]
    },
    {
      "cell_type": "code",
      "execution_count": null,
      "metadata": {
        "id": "BrGXzjRKcR4s",
        "colab": {
          "base_uri": "https://localhost:8080/",
          "height": 343
        },
        "outputId": "63700dcf-f595-43b0-d1db-c9fecc8da364"
      },
      "outputs": [
        {
          "output_type": "display_data",
          "data": {
            "text/plain": [
              "<Figure size 500x300 with 1 Axes>"
            ],
            "image/png": "[encoded data removed]"
          },
          "metadata": {}
        },
        {
          "output_type": "stream",
          "name": "stdout",
          "text": [
            "\n",
            "         length\n",
            "length     1.0\n"
          ]
        }
      ],
      "source": [
        "animals.plot(kind='barh', x='name', y='length', figsize=(5, 3))\n",
        "\n",
        "plt.show()\n",
        "\n",
        "correlation = animals[['name', 'length']].corr(numeric_only=True)\n",
        "\n",
        "print(\"\\n\", correlation)"
      ]
    },
    {
      "cell_type": "markdown",
      "metadata": {
        "id": "fOqPXnUIcR4s"
      },
      "source": [
        "## 15) Φτιάξτε ένα σορταρισμένο οριζόντιο γράφημα με τις γάτες και οι μακρύτερες να βρίσκονται στην κορυφή. \n",
        "\n",
        "> **Note**: Δοκιμάστε διαφορετικά χρώματα. \n",
        "\n",
        "> Δείτε πώς, στο Lesson 3 στο τέλος της ενότητας \"10.1 Γράφημα των τιμών μιας μεταβλητής\"\n",
        "\n",
        "> Μπορείτε να δείτε μια λίστα με τα named colors της matplotlib [εδώ](https://stackoverflow.com/questions/22408237/named-colors-in-matplotlib).\n",
        "\n",
        "### Print an horizontal bar chart sorted by cats' length - the longer ones should be on top\n",
        "\n",
        "> **Note**: Try to use different colors.\n",
        "\n",
        "> See how to do it at the end of section \"10.1 Γράφημα των τιμών μιας μεταβλητής\" (graphs with one variable)\n",
        "\n",
        "> A list with matplotlib's named colors can be found [here](https://stackoverflow.com/questions/22408237/named-colors-in-matplotlib)."
      ]
    },
    {
      "cell_type": "code",
      "execution_count": null,
      "metadata": {
        "id": "e4W88X3VcR4s",
        "colab": {
          "base_uri": "https://localhost:8080/",
          "height": 291
        },
        "outputId": "30c80ab1-93a9-4618-9994-1cf0eb6219b4"
      },
      "outputs": [
        {
          "output_type": "display_data",
          "data": {
            "text/plain": [
              "<Figure size 500x300 with 1 Axes>"
            ],
            "image/png": "[encoded data removed]"
          },
          "metadata": {}
        }
      ],
      "source": [
        "# filter the animals dataframe to include only the cats\n",
        "cats = animals[animals['animal'] == 'cat']\n",
        "\n",
        "# sort the cats dataframe by length in descending order\n",
        "cats = cats.sort_values('length', ascending=False)\n",
        "\n",
        "# create a list of colors for the bars\n",
        "colors = ['b', 'g', 'r']\n",
        "\n",
        "# create a horizontal bar chart of the cats' lengths with their names in labels\n",
        "cats.plot(kind='barh', x='name', y='length', figsize=(5, 3), color=colors)\n",
        "\n",
        "# show the plot\n",
        "plt.show()"
      ]
    }
  ],
  "metadata": {
    "kernelspec": {
      "display_name": "Python 3",
      "language": "python",
      "name": "python3"
    },
    "language_info": {
      "codemirror_mode": {
        "name": "ipython",
        "version": 3
      },
      "file_extension": ".py",
      "mimetype": "text/x-python",
      "name": "python",
      "nbconvert_exporter": "python",
      "pygments_lexer": "ipython3",
      "version": "3.9.2"
    },
    "colab": {
      "provenance": [],
      "include_colab_link": true
    }
  },
  "nbformat": 4,
  "nbformat_minor": 0
}